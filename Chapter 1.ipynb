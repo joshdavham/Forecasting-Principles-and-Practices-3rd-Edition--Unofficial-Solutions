{
 "cells": [
  {
   "cell_type": "markdown",
   "id": "21a1825c",
   "metadata": {},
   "source": [
    "# 1.\n",
    "\n",
    "## Case 3:\n",
    "\n",
    "- The vehicle's original sale price \n",
    "- The vehicle's Make\n",
    "\n",
    "## Case 4:\n",
    "\n",
    "- Levels of domestic health restrictions (red, yellow, green) if there is an ongoing pandemic\n",
    "- Beginning and end dates of summer and Christmas break for Austrailias' largest universities"
   ]
  },
  {
   "cell_type": "markdown",
   "id": "4c5aad03",
   "metadata": {},
   "source": [
    "# 2.\n",
    "\n",
    "## Step 1: Problem definition.\n",
    "\n",
    "Build a forecasting model able to accurately predict the resale value of a vehicle after a three-year lease. Such a model may lead to higher company profits and to the future development of more efficient leasing and sales policies.\n",
    "\n",
    "## Step 2: Gathering information.\n",
    "\n",
    "**(a)** Historical statistical data was provided by the company detailing the resale value of previous vehicles. **(b)** The accumulated expertise, however, was not collected due to the group of specialists not being cooperative.\n",
    "\n",
    "## Step 3: Preliminary (exploratory) analysis.\n",
    "\n",
    "- One could plot the average resale values of vehicles over time to see if there is evidence for any sort of a trend. Perhaps average resale values tend to increase over time (inflation)?\n",
    "\n",
    "- One could plot the percentage of vehicles sold each year, grouped by it's Make. Are some brands rising in popularity among custormers?\n",
    "\n",
    "## Step 4: Choosing and fitting models.\n",
    "\n",
    "Using the historical data provided by the company, the forecasters could attempt to model the data with an *exponential smoothing model*, an *ARIMA* model and a *dynamic regression model*. The forecasters could then compare these models' respective performances on the historical data to choose the best one for the company to use.\n",
    "\n",
    "## Step 5: Using and evaluating a forecasting model.\n",
    "\n",
    "Once the best model has been chosen from the previous step, the forecasters can then report their predictions to the company or provide them with the model itself. And as results come in with time, the forecasters can continue to evaluate their models' forecasts by comparing its' predictions to reality and adjusting the model accordingly."
   ]
  }
 ],
 "metadata": {
  "kernelspec": {
   "display_name": "R",
   "language": "R",
   "name": "ir"
  },
  "language_info": {
   "codemirror_mode": "r",
   "file_extension": ".r",
   "mimetype": "text/x-r-source",
   "name": "R",
   "pygments_lexer": "r",
   "version": "3.6.1"
  }
 },
 "nbformat": 4,
 "nbformat_minor": 5
}
